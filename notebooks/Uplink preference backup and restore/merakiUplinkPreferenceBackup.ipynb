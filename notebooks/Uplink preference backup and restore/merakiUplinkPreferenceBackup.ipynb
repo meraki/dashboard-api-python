{
 "cells": [
  {
   "cell_type": "markdown",
   "metadata": {},
   "source": [
    "# Meraki Python SDK Demo: Uplink Preference Backup\n",
    "\n",
    "*This notebook demonstrates using the Meraki Python SDK to back up Internet (WAN) and VPN traffic uplink preferences, as well as custom performance classes, to a single Excel file. If you have hundreds of WAN/VPN uplink preferences, they can be a challenge to manipulate. This demo seeks to prove how using the Meraki API and Python SDK can substantially streamline such complex deployments.*\n",
    "\n",
    "If an admin has any Internet traffic or VPN traffic uplink preferences, or custom performance classes, this tool will download them to an Excel file. This is a more advanced demo, intended for intermediate to advanced Python programmers, but has been documented thoroughly with the intention that even a determined Python beginner can understand the concepts involved.\n",
    "\n",
    "---\n",
    "\n",
    ">NB: Throughout this notebook, we will print values for demonstration purposes. In a production Python script, the coder would likely remove these print statements to clean up the console output."
   ]
  },
  {
   "cell_type": "markdown",
   "metadata": {},
   "source": [
    "In this first cell, we import the required `meraki` and `os` modules, and open the Dashboard API connection using the SDK. We also import `openpyxl` for working with Excel files, and `netaddr` for working with IP addresses."
   ]
  },
  {
   "cell_type": "code",
   "execution_count": null,
   "metadata": {
    "tags": []
   },
   "outputs": [],
   "source": [
    "# Install the relevant modules. If you are using a local editor (e.g. VS Code, rather than Colab) you can run these commands, without the preceding %, via a terminal. NB: Run `pip install meraki==` to find the latest version of the Meraki SDK. Uncomment these lines to run them in Google Colab.\n",
    "#%pip install meraki\n",
    "#%pip install openpyxl\n",
    "\n",
    "# If you are using Google Colab, please ensure you have set up your environment variables as linked above, then delete the two lines of ''' to activate the following code:\n",
    "'''\n",
    "%pip install colab-env -qU\n",
    "import colab_env\n",
    "'''\n",
    "\n",
    "# The Meraki SDK\n",
    "import meraki\n",
    "# The built-in OS module, to read environment variables\n",
    "import os\n",
    "# We're also going to import Python's built-in JSON module, but only to make the console output pretty. In production, you wouldn't need any of the printing calls at all, nor this import!\n",
    "import json\n",
    "\n",
    "# The openpyxl module, to manipulate Excel files\n",
    "import openpyxl\n",
    "# The datetime module, to generate timestamps\n",
    "import datetime\n",
    "\n",
    "# Treat your API key like a password. Store it in your environment variables as 'MERAKI_DASHBOARD_API_KEY' and let the SDK call it for you.\n",
    "# Or, call it manually after importing Python's os module:\n",
    "# API_KEY = os.getenv('MERAKI_DASHBOARD_API_KEY')\n",
    "\n",
    "# Initialize the Dashboard connection.\n",
    "dashboard = meraki.DashboardAPI(suppress_logging=True)\n",
    "\n",
    "# We'll also create a few reusable strings for later interactivity.\n",
    "string_constants = dict()\n",
    "string_constants['CONFIRM'] = 'OK, are you sure you want to do this? This script does not have an \"undo\" feature.'\n",
    "string_constants['CANCEL'] = 'OK. Operation canceled.'\n",
    "string_constants['WORKING'] = 'Working...'\n",
    "string_constants['COMPLETE'] = 'Operation complete.'\n",
    "string_constants['NETWORK_SELECTED'] = 'Network selected.'\n",
    "string_constants['NO_VALID_OPTIONS'] = 'There are no valid options. Please try again with an API key that has access to the appropriate resources.'\n",
    "\n",
    "# Some of the parameters we'll work with are optional. This string defines what value will be put into a cell corresponding with a parameter that is not set on that rule.\n",
    "string_constants['NOT_APPLICABLE'] = 'N/A'\n",
    "\n",
    "# This script is interactive; user choices and data will be stored here.\n",
    "user_choices = dict()\n",
    "user_data = dict()"
   ]
  },
  {
   "cell_type": "markdown",
   "metadata": {},
   "source": [
    "A basic pretty print formatter, `printj()`. It will make reading JSON on the console easier, but won't be necessary in production scripts."
   ]
  },
  {
   "cell_type": "code",
   "execution_count": null,
   "metadata": {},
   "outputs": [],
   "source": [
    "def printj(ugly_json_object):\n",
    "    \n",
    "     # The json.dumps() method converts a JSON object into human-friendly formatted text\n",
    "    pretty_json_string = json.dumps(ugly_json_object, indent = 2, sort_keys = False)\n",
    "    \n",
    "    return print(pretty_json_string)"
   ]
  },
  {
   "cell_type": "markdown",
   "metadata": {},
   "source": [
    "## Introducing a Python class\n",
    "\n",
    "To streamline user interaction in a re-usable way, we'll create a class called UserChoice. Think of classes like a superset of functions, where you can store related functions and variables. Later, we'll create an instance of this class to prompt the user for input, and validate that input. \n",
    "\n",
    "It may look complex, but it will streamline our code later, and is a great example of code-reuse in Python. For more information on classes, [click here](https://docs.python.org/3/tutorial/classes.html). Alternatively, you could reduce the script's interactivity and have it read required settings from a settings file, as in [this example](https://github.com/meraki/dashboard-api-python/tree/master/examples/merakiApplianceVlanToL3SwitchInterfaceMigrator)."
   ]
  },
  {
   "cell_type": "code",
   "execution_count": null,
   "metadata": {},
   "outputs": [],
   "source": [
    "class UserChoice:\n",
    "\n",
    "    'A re-usable CLI option prompt.'\n",
    "\n",
    "    def __init__(self, options_list=[], subject_of_choice='available options', single_option_noun='option', id_parameter='id', name_parameter='name', action_verb='choose', no_valid_options_message=string_constants['NO_VALID_OPTIONS']):\n",
    "\n",
    "        self.options_list = options_list # options_list is a list of dictionaries containing attributes id_parameter and name_parameter  \n",
    "        self.subject_of_choice = subject_of_choice # subject_of_choice is a string that names the subject of the user's choice. It is typically a plural noun.\n",
    "        self.single_option_noun = single_option_noun # single_option_noun is a string that is a singular noun corresponding to the subject_of_choice\n",
    "        self.id_parameter = id_parameter # id_parameter is a string that represents the name of the sub-parameter that serves as the ID value for the option in options_list. It should be a unique value for usability.\n",
    "        self.name_parameter = name_parameter # name_paraemter is a string that represents the name of the sub-parameter that serves as the name value for the option in options_list. It does not need to be unique.\n",
    "        self.action_verb = action_verb # action_verb is a string that represents the verb of the user's action. For example, to \"choose\"\n",
    "        self.no_valid_options_message = no_valid_options_message # no_valid_options_message is a string that represents an error message if options_list is empty\n",
    "              \n",
    "        # Confirm there are options in the list\n",
    "        if len(self.options_list):\n",
    "            print(f'We found {len(self.options_list)} {self.subject_of_choice}:')\n",
    "\n",
    "            # Label each option and show the user their choices.\n",
    "            option_index = 0\n",
    "\n",
    "            for option in self.options_list:\n",
    "                print(f\"{option_index}. {option[self.id_parameter]} with name {option[self.name_parameter]}\")\n",
    "                option_index+=1\n",
    "\n",
    "            print(f'Which {self.single_option_noun} would you like to {self.action_verb}?')\n",
    "            self.active_option = int(input(f'Choose 0-{option_index-1}:'))\n",
    "            \n",
    "            # Ask until the user provides valid input.\n",
    "            while self.active_option not in list(range(option_index)):\n",
    "                print(f'{self.active_option} is not a valid choice. Which {self.single_option_noun} would you like to {self.action_verb}?')\n",
    "                self.active_option = int(input(f'Choose 0-{option_index-1}:'))\n",
    "\n",
    "            print(f'Your {self.single_option_noun} is {self.options_list[self.active_option][self.name_parameter]}.')\n",
    "\n",
    "            # Assign the class id and name vars to the chosen item's\n",
    "            self.id = self.options_list[self.active_option][self.id_parameter]\n",
    "            self.name = self.options_list[self.active_option][self.name_parameter]"
   ]
  },
  {
   "cell_type": "markdown",
   "metadata": {},
   "source": [
    "## Pulling organization and network IDs\n",
    "\n",
    "Most API calls require passing values for the organization ID and/or the network ID. Remember that `UserChoice` class we created earlier? We'll call that and supply parameters defining what the user can choose. Notice how, having defined the class earlier, we can re-use it with only a single declaration."
   ]
  },
  {
   "cell_type": "code",
   "execution_count": null,
   "metadata": {
    "tags": []
   },
   "outputs": [],
   "source": [
    "# getOrganizations will return all orgs to which the supplied API key has access\n",
    "user_choices['all_organizations'] = dashboard.organizations.getOrganizations()\n",
    "\n",
    "# Prompt the user to pick an organization.\n",
    "user_choices['organization'] = UserChoice(\n",
    "    options_list=user_choices['all_organizations'], \n",
    "    subject_of_choice='organizations', \n",
    "    single_option_noun='organization'\n",
    "    )"
   ]
  },
  {
   "cell_type": "markdown",
   "metadata": {},
   "source": [
    "## Identify networks with MX appliances, and prompt the user to choose one\n",
    "\n",
    "We want to:\n",
    "> Download any existing uplink selection preferences and custom performance classes. \n",
    "\n",
    "> Optionally, upload a replacement list of preferences.\n",
    "\n",
    "We can only run this on networks that have appliance devices, so we will find networks where `productTypes` contains `appliance`. Then we'll ask the user to pick one, then pull the uplink selection rules from it.\n",
    "\n",
    "Then let's ask the user which network they'd like to use.\n",
    "\n"
   ]
  },
  {
   "cell_type": "code",
   "execution_count": null,
   "metadata": {
    "tags": []
   },
   "outputs": [],
   "source": [
    "# Make a list of all networks in the org\n",
    "user_choices['all_networks'] = dashboard.organizations.getOrganizationNetworks(organizationId=user_choices['organization'].id)\n",
    "\n",
    "# Find the networks with appliances\n",
    "user_choices['networks_with_appliances'] = [network for network in user_choices['all_networks'] if 'appliance' in network['productTypes']]\n",
    "\n",
    "# If any are found, let the user choose a network. Otherwise, let the user know that none were found. The logic for this class is defined in a cell above.\n",
    "user_choices['network'] = UserChoice(\n",
    "    options_list = user_choices['networks_with_appliances'], \n",
    "    subject_of_choice = 'networks with appliances', \n",
    "    single_option_noun = 'network'\n",
    "    )"
   ]
  },
  {
   "cell_type": "markdown",
   "metadata": {},
   "source": [
    "## Pulling uplink preferences for the network\n",
    "\n",
    "Let's pull the uplink preferences via the API using the SDK's `getNetworkApplianceTrafficShapingUplinkSelection` and `getNetworkApplianceTrafficShapingCustomPerformanceClasses` methods. The associated endpoints will return all of the relevant information for the chosen network. We'll create an Excel file of it later.\n",
    "\n",
    "Let's define this operation as a function so we can re-use it later."
   ]
  },
  {
   "cell_type": "code",
   "execution_count": null,
   "metadata": {
    "tags": []
   },
   "outputs": [],
   "source": [
    "def getNetworkClassesAndPrefs(*, networkId):\n",
    "    # Get the uplink preferences (WAN and VPN)\n",
    "    uplink_prefs = dashboard.appliance.getNetworkApplianceTrafficShapingUplinkSelection(networkId=networkId)\n",
    "    \n",
    "    # Get the custom performance classes\n",
    "    custom_performance_classes = dashboard.appliance.getNetworkApplianceTrafficShapingCustomPerformanceClasses(networkId=networkId)\n",
    "    \n",
    "    # Create a dict network_classes_and_prefs with both that we can return and call later\n",
    "    network_classes_and_prefs = {\n",
    "        'uplinkPrefs': uplink_prefs, \n",
    "        'customPerformanceClasses': custom_performance_classes\n",
    "        }\n",
    "    return(network_classes_and_prefs)\n",
    "\n",
    "user_data['current_classes_and_prefs'] = getNetworkClassesAndPrefs(networkId = user_choices['network'].id)"
   ]
  },
  {
   "cell_type": "markdown",
   "metadata": {},
   "source": [
    "The above returns all uplink preferences (e.g. Internet traffic and VPN traffic). We can review the output of each individually if we'd like to see the raw data:"
   ]
  },
  {
   "cell_type": "code",
   "execution_count": null,
   "metadata": {
    "tags": []
   },
   "outputs": [],
   "source": [
    "# We can review the wanTrafficUplinkPreferences in plain text.\n",
    "printj(user_data['current_classes_and_prefs']['uplinkPrefs']['wanTrafficUplinkPreferences'])"
   ]
  },
  {
   "cell_type": "code",
   "execution_count": null,
   "metadata": {
    "tags": []
   },
   "outputs": [],
   "source": [
    "# We can also review the vpnTrafficUplinkPreferences in plain text.\n",
    "printj(user_data['current_classes_and_prefs']['uplinkPrefs']['vpnTrafficUplinkPreferences'])"
   ]
  },
  {
   "cell_type": "code",
   "execution_count": null,
   "metadata": {
    "tags": []
   },
   "outputs": [],
   "source": [
    "# We can also review the customPerformanceClasses in plain text.\n",
    "printj(user_data['current_classes_and_prefs']['customPerformanceClasses'])"
   ]
  },
  {
   "cell_type": "markdown",
   "metadata": {},
   "source": [
    "## Let's make a backup\n",
    "\n",
    "Before we start modifying any of these rules or classes, it'd be good to make a backup, don't you think? We'll use `openpyxl` to create a new Excel workbook with two worksheets: one for Internet traffic preferences and the other for VPN traffic preferences. If you don't care to use Excel, you could instead create a CSV or potentially any other type of file you like, using an appropriate Python module. Consider a self-paced excercise where you save these values into some other file format.\n",
    "\n",
    "We'll start with the creation of the workbook. We'll make this a function for easy calling later."
   ]
  },
  {
   "cell_type": "code",
   "execution_count": null,
   "metadata": {},
   "outputs": [],
   "source": [
    "def create_workbook():\n",
    "\n",
    "    # Create a workbook with the appropriate column headers and/or worksheets\n",
    "    # First we'll create the workbook, then we'll design the worksheets. Just like in Excel, by default, the workbook has one worksheet, titled 'Sheet'.\n",
    "    new_workbook = openpyxl.Workbook()\n",
    "\n",
    "    # We'll specify that the active worksheet is our wan_prefs_worksheet\n",
    "    wan_prefs_worksheet = new_workbook.active\n",
    "\n",
    "    # Let's rename the worksheet from 'Sheet' to something more descriptive\n",
    "    wan_prefs_worksheet.title = 'wanUplinkPreferences'\n",
    "\n",
    "    # Name the columns for the wan_prefs_worksheet. Think of this like a single-line CSV:\n",
    "    wan_title_row_headers = (\n",
    "        'Protocol',\n",
    "        'Source',\n",
    "        'Src port',\n",
    "        'Destination',\n",
    "        'Dst port',\n",
    "        'Preferred uplink'\n",
    "    )\n",
    "\n",
    "    # Add that title row to the worksheet\n",
    "    wan_prefs_worksheet.append(wan_title_row_headers)\n",
    "\n",
    "    # Let's make the title row bold for easier reading\n",
    "    for row in wan_prefs_worksheet.iter_rows():\n",
    "        for cell in row:\n",
    "            cell.font = openpyxl.styles.Font(bold=True)\n",
    "\n",
    "    # Now let's do the same for the VPN uplink preferences, and custom performance classes.\n",
    "    # First, create a separate worksheet for the VPN uplink preferences\n",
    "    vpn_prefs_worksheet = new_workbook.create_sheet(title='vpnUplinkPreferences')\n",
    "    custom_performance_classes_worksheet = new_workbook.create_sheet(title='customPerformanceClasses')\n",
    "\n",
    "    # Name the columns for the vpn_prefs_worksheet and custom_performance_classes_worksheet.\n",
    "    vpn_title_row_headers = (\n",
    "        'Type',\n",
    "        'Protocol or App ID',\n",
    "        'Source or App Name',\n",
    "        'Src port',\n",
    "        'Destination',\n",
    "        'Dst port',\n",
    "        'Preferred uplink',\n",
    "        'Failover criterion',\n",
    "        'Performance class type',\n",
    "        'Performance class name',\n",
    "        'Performance class ID'\n",
    "    )\n",
    "\n",
    "    classes_title_row_headers = (\n",
    "        'ID',\n",
    "        'Name',\n",
    "        'Max Latency',\n",
    "        'Max Jitter',\n",
    "        'Max Loss Percentage'\n",
    "    )\n",
    "\n",
    "    # Add the title rows to the appropriate worksheets\n",
    "    vpn_prefs_worksheet.append(vpn_title_row_headers)\n",
    "    custom_performance_classes_worksheet.append(classes_title_row_headers)\n",
    "\n",
    "    # Let's make those title rows bold, too\n",
    "    for row in vpn_prefs_worksheet.iter_rows():\n",
    "        for cell in row:\n",
    "            cell.font = openpyxl.styles.Font(bold=True)\n",
    "    \n",
    "    for row in custom_performance_classes_worksheet.iter_rows():\n",
    "        for cell in row:\n",
    "            cell.font = openpyxl.styles.Font(bold=True)\n",
    "\n",
    "    print(f'Created formatted workbook.')\n",
    "    \n",
    "    return(new_workbook)"
   ]
  },
  {
   "cell_type": "markdown",
   "metadata": {},
   "source": [
    "### Function to add custom performance classes to a workbook\n",
    "\n",
    "VPN uplink prefs might reference performance classes. Accordingly, we need to back those up as well."
   ]
  },
  {
   "cell_type": "code",
   "execution_count": null,
   "metadata": {},
   "outputs": [],
   "source": [
    "def add_custom_performance_classes_to_workbook(workbook):\n",
    "\n",
    "    # We'll specify that the active worksheet is our custom_performance_classes worksheet\n",
    "    custom_performance_classes_worksheet = workbook['customPerformanceClasses']\n",
    "\n",
    "    # We'll also count the number of classes to help the user know that it's working.\n",
    "    performance_class_count = 0\n",
    "\n",
    "    # Let's add all the vpnTrafficUplinkPreferences to the VPN worksheet\n",
    "    for performance_class in user_data['current_classes_and_prefs']['customPerformanceClasses']:\n",
    "\n",
    "        performance_class_id = performance_class['customPerformanceClassId']\n",
    "        performance_class_name = performance_class['name']\n",
    "        performance_class_max_latency = performance_class['maxLatency']\n",
    "        performance_class_max_jitter = performance_class['maxJitter']\n",
    "        performance_class_max_loss_percentage = performance_class['maxLossPercentage']\n",
    "\n",
    "        # We assemble the parameters into a tuple that will represent a row.\n",
    "        performance_class_row = (\n",
    "            performance_class_id,\n",
    "            performance_class_name,\n",
    "            performance_class_max_latency,\n",
    "            performance_class_max_jitter,\n",
    "            performance_class_max_loss_percentage\n",
    "            )\n",
    "\n",
    "        # We then add that row to the worksheet.\n",
    "        custom_performance_classes_worksheet.append(performance_class_row)\n",
    "\n",
    "        # increase the rule_count\n",
    "        performance_class_count += 1\n",
    "\n",
    "    \n",
    "    print(f'Added {performance_class_count} performance classes to customPerformanceClasses.')\n",
    "    \n",
    "    return(workbook)"
   ]
  },
  {
   "cell_type": "markdown",
   "metadata": {},
   "source": [
    "### Function to add WAN preferences to a workbook\n",
    "\n",
    "Transposing the settings into a two-dimensional table doesn't require anything too fancy. We simply iterate through the rules in the `uplinkPrefs['wanTrafficUplinkPreferences']` list, and pull out the relevant information for each key-value pair. We'll also make this a function so we can call it later."
   ]
  },
  {
   "cell_type": "code",
   "execution_count": null,
   "metadata": {
    "tags": []
   },
   "outputs": [],
   "source": [
    "def add_wan_prefs_to_workbook(workbook):\n",
    "\n",
    "    # We'll specify that the active worksheet is our wan_prefs_worksheet\n",
    "    wan_prefs_worksheet = workbook['wanUplinkPreferences']\n",
    "\n",
    "    # We'll also count the number of rules to help the user know that it's working.\n",
    "    rule_count = 0\n",
    "\n",
    "    # Let's add all the wanTrafficUplinkPreferences\n",
    "    for rule in user_data['current_classes_and_prefs']['uplinkPrefs']['wanTrafficUplinkPreferences']:\n",
    "        \n",
    "        rule_preferred_uplink = rule['preferredUplink']   \n",
    "        rule_protocol = rule['trafficFilters'][0]['value']['protocol']\n",
    "        rule_source = rule['trafficFilters'][0]['value']['source']['cidr']\n",
    "\n",
    "        # An 'any' value in the protocol removes the need for either source or destination port numbers to be defined, so the API doesn't specify port numbers in the output if 'any' is the protocol. However, we don't want to leave those cells blank, so we will fill them in accordingly.\n",
    "        \n",
    "        if rule_protocol == 'any':\n",
    "            rule_src_port = 'any'\n",
    "            rule_dst_port = 'any'\n",
    "        else:\n",
    "            rule_src_port = rule['trafficFilters'][0]['value']['source']['port']\n",
    "            rule_dst_port = rule['trafficFilters'][0]['value']['destination']['port']\n",
    "\n",
    "        rule_destination = rule['trafficFilters'][0]['value']['destination']['cidr']\n",
    "\n",
    "\n",
    "        # We assemble the parameters into a tuple that will represent a row.\n",
    "        rule_row = (\n",
    "            rule_protocol, \n",
    "            rule_source, \n",
    "            rule_src_port, \n",
    "            rule_destination, \n",
    "            rule_dst_port, \n",
    "            rule_preferred_uplink\n",
    "            )\n",
    "\n",
    "        # We then add that row to the worksheet.\n",
    "        wan_prefs_worksheet.append(rule_row)\n",
    "        \n",
    "        # increase the rule_count\n",
    "        rule_count += 1\n",
    "\n",
    "    print(f'Added {rule_count} rules to wanUplinkPreferences.')\n",
    "    \n",
    "    return(workbook)"
   ]
  },
  {
   "cell_type": "markdown",
   "metadata": {},
   "source": [
    "### Function to add VPN preferences to a workbook\n",
    "\n",
    "We'll do almost the exact same for the VPN traffic uplink preferences, but since there are more parameters available here, we employ a bit more `if`/`else` logic to handle the varied key structures."
   ]
  },
  {
   "cell_type": "code",
   "execution_count": null,
   "metadata": {},
   "outputs": [],
   "source": [
    "def add_vpn_prefs_to_workbook(workbook):\n",
    "\n",
    "    # We'll specify that the active worksheet is our wan_prefs_worksheet\n",
    "    vpn_prefs_worksheet = workbook['vpnUplinkPreferences']\n",
    "\n",
    "    # We'll also count the number of rules to help the user know that it's working.\n",
    "    rule_count = 0\n",
    "\n",
    "    # Let's add all the vpnTrafficUplinkPreferences to the VPN worksheet\n",
    "    for rule in user_data['current_classes_and_prefs']['uplinkPrefs']['vpnTrafficUplinkPreferences']:\n",
    "\n",
    "        rule_preferred_uplink = rule['preferredUplink']\n",
    "        rule_type = rule['trafficFilters'][0]['type']\n",
    "\n",
    "        # Application rules have different parameters. This checks, and assigns values accordingly.\n",
    "        if 'application' in rule_type:\n",
    "            rule_protocol = rule['trafficFilters'][0]['value']['id']\n",
    "            rule_source = rule['trafficFilters'][0]['value']['name']\n",
    "            rule_src_port = string_constants['NOT_APPLICABLE']\n",
    "            rule_destination = string_constants['NOT_APPLICABLE']\n",
    "            rule_dst_port = string_constants['NOT_APPLICABLE']\n",
    "        else: \n",
    "            rule_protocol = rule['trafficFilters'][0]['value']['protocol']\n",
    "            rule_source = rule['trafficFilters'][0]['value']['source']['cidr']\n",
    "            rule_destination = rule['trafficFilters'][0]['value']['destination']['cidr']\n",
    "\n",
    "            # An 'any' or 'icmp' value in the protocol removes the need for either source or destination port numbers to be defined, so the API doesn't specify port numbers in the output if 'any' or 'icmp' is the protocol. However, we don't want to leave those cells blank, so we will fill them in accordingly.\n",
    "            \n",
    "            if rule_protocol == 'any':\n",
    "                rule_src_port = 'any'\n",
    "                rule_dst_port = 'any'\n",
    "            elif rule_protocol == 'icmp':\n",
    "                rule_src_port = string_constants['NOT_APPLICABLE']\n",
    "                rule_dst_port = string_constants['NOT_APPLICABLE']\n",
    "            else:\n",
    "                rule_src_port = rule['trafficFilters'][0]['value']['source']['port']\n",
    "                rule_dst_port = rule['trafficFilters'][0]['value']['destination']['port']\n",
    "        \n",
    "        # A failover criterion and performance class are optional parameters, so we cannot assume they are there. We'll first check to see if they exist before pulling their values.\n",
    "        # Check if the rule has failOverCriterion set\n",
    "        if rule.get('failOverCriterion', False):\n",
    "            rule_failover_criterion = rule['failOverCriterion']\n",
    "        else: # No failOverCriterion set\n",
    "            rule_failover_criterion = string_constants['NOT_APPLICABLE']\n",
    "\n",
    "        # Check if the rule has performanceClass set\n",
    "        if rule.get('performanceClass', False):\n",
    "            rule_performance_class_type = rule['performanceClass']['type']\n",
    "\n",
    "            # If the performance class is set, and is 'builtin', then we use 'builtinPerformanceClassName'. If it's 'custom', then we use 'customPerformanceClassId' to identify it.\n",
    "            if rule_performance_class_type == 'builtin':\n",
    "                rule_performance_class_id = string_constants['NOT_APPLICABLE']\n",
    "                rule_performance_class_name = rule['performanceClass']['builtinPerformanceClassName']\n",
    "            else:\n",
    "                rule_performance_class_id = rule['performanceClass']['customPerformanceClassId']\n",
    "                \n",
    "                # search user_data['current_classes_and_prefs']['customPerformanceClasses'] for the class that has that ID, then pull the corresponding name\n",
    "                for performance_class in user_data['current_classes_and_prefs']['customPerformanceClasses']: \n",
    "                    if rule_performance_class_id == performance_class['customPerformanceClassId']:\n",
    "                        rule_performance_class_name = performance_class['name']\n",
    "                \n",
    "                \n",
    "        # Else, there's no performanceClass set, so we'll set these values accordingly.\n",
    "        else:\n",
    "            rule_performance_class_type = string_constants['NOT_APPLICABLE']\n",
    "            rule_performance_class_name = string_constants['NOT_APPLICABLE']\n",
    "            rule_performance_class_id = string_constants['NOT_APPLICABLE']\n",
    "\n",
    "        # We assemble the parameters into a tuple that will represent a row.\n",
    "        rule_row = (\n",
    "            rule_type,\n",
    "            rule_protocol, \n",
    "            rule_source, \n",
    "            rule_src_port, \n",
    "            rule_destination, \n",
    "            rule_dst_port, \n",
    "            rule_preferred_uplink,\n",
    "            rule_failover_criterion,\n",
    "            rule_performance_class_type,\n",
    "            rule_performance_class_name,\n",
    "            rule_performance_class_id\n",
    "            )\n",
    "\n",
    "        # We then add that row to the worksheet.\n",
    "        vpn_prefs_worksheet.append(rule_row)\n",
    "\n",
    "        # increase the rule_count\n",
    "        rule_count += 1\n",
    "\n",
    "    \n",
    "    print(f'Added {rule_count} rules to wanUplinkPreferences.')\n",
    "    \n",
    "    return(workbook)"
   ]
  },
  {
   "cell_type": "markdown",
   "metadata": {},
   "source": [
    "### Function to save a workbook\n",
    "\n",
    "This function takes a single workbook as an argument, and saves it."
   ]
  },
  {
   "cell_type": "code",
   "execution_count": null,
   "metadata": {},
   "outputs": [],
   "source": [
    "# Function that saves a workbook\n",
    "def save_workbook(workbook):\n",
    "\n",
    "    # Finally, we save the worksheet.\n",
    "    # Let's give it a name with a date/time stamp\n",
    "    downloaded_rules_workbook_filename = f'downloaded_rules_workbook_{datetime.datetime.now()}.xlsx'.replace(':','')\n",
    "\n",
    "    workbook.save(downloaded_rules_workbook_filename)\n",
    "\n",
    "    print(f'Saved {downloaded_rules_workbook_filename}.')"
   ]
  },
  {
   "cell_type": "markdown",
   "metadata": {},
   "source": [
    "### Build and save the workbook\n",
    "\n",
    "Now that we've defined the functions that will build the workbook object in Python and save it to a file, we need to run them."
   ]
  },
  {
   "cell_type": "code",
   "execution_count": null,
   "metadata": {
    "tags": []
   },
   "outputs": [],
   "source": [
    "uplink_prefs_workbook = create_workbook()\n",
    "add_custom_performance_classes_to_workbook(uplink_prefs_workbook)\n",
    "add_wan_prefs_to_workbook(uplink_prefs_workbook)\n",
    "add_vpn_prefs_to_workbook(uplink_prefs_workbook)\n",
    "save_workbook(uplink_prefs_workbook)"
   ]
  },
  {
   "cell_type": "markdown",
   "metadata": {},
   "source": [
    "# Final thoughts\n",
    "\n",
    "Hopefully this was a useful deep dive into Python programming and interacting with the Meraki SDK and Excel workbooks. We tackled a problem that is tough to solve in the Dashboard GUI and showed how it can be done very quickly via API and the Python SDK.\n",
    "\n",
    "But what if we want to RESTORE that backup? Well, that's the next challenge! [Return to the notebooks folder](https://github.com/meraki/dashboard-api-python/tree/master/notebooks) for an example notebook that can restore such a backup to the Dashboard.\n",
    "\n",
    "Here we used Excel workbooks, but you can imagine that there are all types of data structures that might be used instead of Excel workbooks, e.g. CSVs, plain text, YAML, XML, LibreOffice files or others, and with the right code you can use those instead of Excel.\n",
    "\n",
    "## Further learning\n",
    "\n",
    "[Meraki Interactive API Docs](https://developer.cisco.com/meraki/api-v1/#!overview): The official (and interactive!) Meraki API and SDK documentation repository on DevNet."
   ]
  }
 ],
 "metadata": {
  "kernelspec": {
   "display_name": "Python 3",
   "language": "python",
   "name": "python3"
  },
  "language_info": {
   "codemirror_mode": {
    "name": "ipython",
    "version": 3
   },
   "file_extension": ".py",
   "mimetype": "text/x-python",
   "name": "python",
   "nbconvert_exporter": "python",
   "pygments_lexer": "ipython3",
   "version": "3.8.4-final"
  }
 },
 "nbformat": 4,
 "nbformat_minor": 4
}
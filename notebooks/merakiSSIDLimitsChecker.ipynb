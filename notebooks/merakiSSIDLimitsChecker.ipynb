{
 "cells": [
  {
   "cell_type": "markdown",
   "metadata": {},
   "source": [
    "# Meraki Python SDK Demo: SSID Limits Checker\n",
    "\n",
    "*This notebook demonstrates using the Meraki Python SDK to check all SSIDs in a network for bandwidth limits. If any are found, it also provides the option to remove them all automatically.*\n",
    "\n",
    "If you have users complaining about slow WiFi, you might like to check if there are any SSID-wide speed limits. With the Meraki Dashboard API, its SDK and Python, we can check for speed limits on any/all SSIDs across the organization without digging through the GUI.\n",
    "\n",
    "---\n",
    "\n",
    ">NB: Throughout this notebook, we will print values for demonstration purposes. In a production Python script, the coder would likely remove these print statements to clean up the console output."
   ]
  },
  {
   "cell_type": "markdown",
   "metadata": {},
   "source": [
    "In this first cell, we install and import the required meraki and os modules, and open the Dashboard API connection using the SDK. Make sure you have [set up your environment variables first](https://github.com/meraki/dashboard-api-python/blob/master/notebooks/notebooksReadme.md#setting-up-your-environment-variables)."
   ]
  },
  {
   "cell_type": "code",
   "execution_count": null,
   "metadata": {
    "tags": []
   },
   "outputs": [],
   "source": [
    "# Install the relevant modules. If you are using a local editor (e.g. VS Code, rather than Colab) you can run these commands, without the preceding %, via a terminal. NB: Run `pip install meraki==` to find the latest version of the Meraki SDK.\n",
    "%pip install meraki\n",
    "\n",
    "# If you are using Google Colab, please ensure you have set up your environment variables as linked above, then delete the two lines of ''' to activate the following code:\n",
    "'''\n",
    "%pip install colab-env -qU\n",
    "import colab_env\n",
    "'''\n",
    "\n",
    "# Rely on meraki SDK and os\n",
    "import meraki\n",
    "import os\n",
    "# We're also going to import Python's built-in JSON module, but only to make the console output pretty. In production, you wouldn't need any of the printing calls at all, nor this import!\n",
    "import json\n",
    "\n",
    "# Treat your API key like a password. Store it in your environment variables as 'MERAKI_DASHBOARD_API_KEY' and let the SDK call it for you.\n",
    "# Or, call it manually after importing Python's os module:\n",
    "# API_KEY = os.getenv('MERAKI_DASHBOARD_API_KEY')\n",
    "\n",
    "# Initialize the Dashboard connection.\n",
    "dashboard = meraki.DashboardAPI(suppress_logging=True)"
   ]
  },
  {
   "cell_type": "markdown",
   "metadata": {},
   "source": [
    "Let's make a basic pretty print formatter, `printj()`. It will make reading the JSON later a lot easier, but won't be necessary in production scripts."
   ]
  },
  {
   "cell_type": "code",
   "execution_count": null,
   "metadata": {},
   "outputs": [],
   "source": [
    "def printj(ugly_json_object):\n",
    "    \n",
    "    # The json.dumps() method converts a JSON object into human-friendly formatted text\n",
    "    pretty_json_string = json.dumps(ugly_json_object, indent = 2, sort_keys = False)\n",
    "\n",
    "    return print(pretty_json_string)"
   ]
  },
  {
   "cell_type": "markdown",
   "metadata": {},
   "source": [
    "Most API calls require passing values for the organization ID and/or the network ID. In this second cell, we fetch a list of the organizations the API key can access, then pick the first org in the list, and the first network in that organization, to use for later operations. You could re-use this code presuming your API key only has access to a single organization, and that organization only contains a single network. Otherwise, you would want to review the organizations object declared and printed here to review its contents."
   ]
  },
  {
   "cell_type": "code",
   "execution_count": null,
   "metadata": {
    "tags": []
   },
   "outputs": [],
   "source": [
    "# Let's make it easier to call this data later\n",
    "# getOrganizations will return all orgs to which the supplied API key has access\n",
    "organizations = dashboard.organizations.getOrganizations()\n",
    "print('Organizations:')\n",
    "printj(organizations)\n",
    "\n",
    "# This example presumes we want to use the first organization as the scope for later operations. \n",
    "firstOrganizationId = organizations[0]['id']\n",
    "firstOrganizationName = organizations[0]['name']\n",
    "\n",
    "# Print a blank line for legibility before showing the firstOrganizationId\n",
    "print('')\n",
    "print(f'The firstOrganizationId is {firstOrganizationId}, and its name is {firstOrganizationName}.')"
   ]
  },
  {
   "cell_type": "markdown",
   "metadata": {},
   "source": [
    "This example will analyze and potentially change every SSID in every network in your organization. It is fine to re-use presuming that that's what you want to do. Otherwise, you might want to review the `networks` list and operate on just one of them instead."
   ]
  },
  {
   "cell_type": "code",
   "execution_count": null,
   "metadata": {
    "tags": []
   },
   "outputs": [],
   "source": [
    "networks = dashboard.organizations.getOrganizationNetworks(organizationId=firstOrganizationId)\n",
    "print('Networks:')\n",
    "printj(networks)"
   ]
  },
  {
   "cell_type": "markdown",
   "metadata": {},
   "source": [
    "Now that we've got the organization and network values figured out, we can get to the ask at hand:\n",
    "\n",
    "> Check for any SSID-level bandwidth limits.\n",
    "\n",
    "We can only run this on networks that have wireless devices, so we have a `for` loop that checks each entry in the `networks` list. If the network's `productTypes` value contains `wireless`, then we'll pull the SSIDs from it.\n",
    "\n",
    "The `getNetworkWirelessSsids` endpoint will return the SSIDs (enabled or otherwise, with or without limits) for the network. We will use a [list comprehension](https://www.datacamp.com/community/tutorials/python-list-comprehension) to make a new list, `organization_ssids_with_limits`, that contains any with a bandwidth limit set.\n",
    "\n",
    ">NB: There are also traffic-shaping rules that are applied on a per-rule basis. This part does not \n"
   ]
  },
  {
   "cell_type": "code",
   "execution_count": null,
   "metadata": {
    "tags": []
   },
   "outputs": [],
   "source": [
    "# Create an empty list where we can store all of the organization's SSIDs\n",
    "organization_ssids = []\n",
    "\n",
    "# Let's make a list of all the organization's SSIDs\n",
    "for network in networks:\n",
    "    # We only want to examine networks that might contain APs\n",
    "    if 'wireless' in network['productTypes']:\n",
    "        # let's find every SSID\n",
    "        for ssid in dashboard.wireless.getNetworkWirelessSsids(network['id']):\n",
    "            # Add each network's SSIDs to organization_ssids\n",
    "            organization_ssids.append({'networkId': network['id'], 'ssid': ssid})\n",
    "\n",
    "\n"
   ]
  },
  {
   "cell_type": "code",
   "execution_count": null,
   "metadata": {
    "tags": []
   },
   "outputs": [],
   "source": [
    "# Let's make a list of organization SSIDs that have SSID-wide bandwidth limits set\n",
    "organization_ssids_with_limits = [\n",
    "    {'networkId': i['networkId'], 'number': i['ssid']['number']} for i in organization_ssids \n",
    "    if i['ssid']['perClientBandwidthLimitUp'] \n",
    "    or i['ssid']['perClientBandwidthLimitDown'] \n",
    "    or i['ssid']['perSsidBandwidthLimitUp'] \n",
    "    or i['ssid']['perSsidBandwidthLimitDown']\n",
    "]\n",
    "\n",
    "# Let's inform the user what we found\n",
    "if len(organization_ssids_with_limits):\n",
    "    print('These SSIDs have bandwidth limits:')\n",
    "    printj(organization_ssids_with_limits)\n",
    "else:\n",
    "    print('There are no SSIDs with bandwidth limits set on the SSID level.')"
   ]
  },
  {
   "cell_type": "markdown",
   "metadata": {},
   "source": [
    "To remove the SSID limits, we will modify these values:\n",
    "* On the SSID level, using `updateNetworkWirelessSsid`, we will set all bandwidth limits to 0, which is \"unlimited.\"\n",
    "* Separately, we will remove any custom traffic shaping rules using `updateNetworkWirelessSsidTrafficShapingRules`.\n",
    "\n",
    "Let's write a method that we can call later to do this:"
   ]
  },
  {
   "cell_type": "code",
   "execution_count": null,
   "metadata": {},
   "outputs": [],
   "source": [
    "# Let's create a function that removes any found limits. We might use this later.\n",
    "def removeSsidLimits(ssids):\n",
    "\tfor ssid in ssids:\n",
    "\t\t# Remove SSID-wide limits\n",
    "\t\tdashboard.wireless.updateNetworkWirelessSsid(\n",
    "\t\t\tssid['networkId'],\n",
    "\t\t\tssid['number'],\n",
    "\t\t\tperClientBandwidthLimitUp=0,\n",
    "\t\t\tperClientBandwidthLimitDown=0,\n",
    "\t\t\tperSsidBandwidthLimitUp=0,\n",
    "\t\t\tperSsidBandwidthLimitDown=0\n",
    "\t\t\t)\n",
    "\t\t\n",
    "\t\t# Disable rule-based traffic-shaping rules\n",
    "\t\tdashboard.wireless.updateNetworkWirelessSsidTrafficShapingRules(\n",
    "\t\t\tssid['networkId'],\n",
    "\t\t\tssid['number'],\n",
    "\t\t\trules=[]\n",
    "\t\t)"
   ]
  },
  {
   "cell_type": "markdown",
   "metadata": {},
   "source": [
    "We will also define a separate method that removes custom traffic shaping rules everywhere, using the same `updateNetworkWirelessSsidTrafficShapingRules` method we used above, but this time applying it to all SSIDs. Like before, we're defining the method here, and we'll give the user the option to run this later."
   ]
  },
  {
   "cell_type": "code",
   "execution_count": null,
   "metadata": {},
   "outputs": [],
   "source": [
    "def removeCustomTrafficShapingRules():\n",
    "    # We'll check each network\n",
    "    for network in networks:\n",
    "        # We only want to examine networks that might contain APs\n",
    "        if 'wireless' in network['productTypes']:\n",
    "            # SSIDs are always numbered 1-15 (0-14 in the API)\n",
    "            for ssidNumber in range(15):\n",
    "                # Disable rule-based traffic shaping for that network's SSID\n",
    "                print(f'Modifying {network[\"name\"]} and SSID number {ssidNumber}...')\n",
    "                dashboard.wireless.updateNetworkWirelessSsidTrafficShapingRules(\n",
    "                    network['id'],\n",
    "                    ssidNumber,\n",
    "                    rules=[]\n",
    "                )\n",
    "                "
   ]
  },
  {
   "cell_type": "markdown",
   "metadata": {},
   "source": [
    "# Final steps\n",
    "\n",
    "Here we're going to give the user an interactive prompt. First we set a few string literals that we can reuse to keep the code tight, then we call `removeSsidLimits` on `organization_ssids_with_limits` if the user confirms the appropriate prompts. **Use with care--there's no undo!**"
   ]
  },
  {
   "cell_type": "code",
   "execution_count": null,
   "metadata": {
    "tags": []
   },
   "outputs": [],
   "source": [
    "# Re-used strings\n",
    "string_constants = dict()\n",
    "string_constants['CONFIRM'] = 'OK, are you sure you want to do this? This script does not have an \"undo\" feature.'\n",
    "string_constants['CANCEL'] = 'OK. Operation canceled.'\n",
    "string_constants['WORKING'] = 'Working...'\n",
    "string_constants['COMPLETE'] = 'Operation complete.'\n",
    "\n",
    "# Let's give the user the option to clear those bandwidth limits\n",
    "if len(organization_ssids_with_limits):\n",
    "    print('Would you like to remove all SSID-level bandwidth limits?')\n",
    "    if input('([Y]es/[N]o):') in ['Y', 'y', 'Yes', 'yes', 'ye', 'Ye']:\n",
    "        print(string_constants['CONFIRM'])\n",
    "        if input('([Y]es/[N]o):') in ['Y', 'y', 'Yes', 'yes', 'ye', 'Ye']:\n",
    "            print(string_constants['WORKING'])\n",
    "            removeSsidLimits(organization_ssids_with_limits)\n",
    "            print(string_constants['COMPLETE'])\n",
    "        else:\n",
    "            print(string_constants['CANCEL'])\n",
    "    else:\n",
    "        print(string_constants['CANCEL'])"
   ]
  },
  {
   "cell_type": "markdown",
   "metadata": {},
   "source": [
    "As one last option, we can also mass-remove custom traffic shaping rules from all SSIDs across all organizations. This might be useful if, in the past, an admin had set a custom traffic shaping rule, but it's unclear where it was set. **Use with care--there's no undo!**"
   ]
  },
  {
   "cell_type": "code",
   "execution_count": null,
   "metadata": {
    "tags": []
   },
   "outputs": [],
   "source": [
    "# Let's also check if the user wants to take the extra step to remove all rule-based limits\n",
    "print('There may also be client bandwidth limits on custom traffic shaping rules. Would you also like to remove any and all custom traffic shaping rules? This may take some time depending on the size and quantity of your networks. This will not clear default traffic shaping rules.')\n",
    "if input('([Y]es/[N]o):') in ['Y', 'y', 'Yes', 'yes', 'ye', 'Ye']:\n",
    "    print(string_constants['CONFIRM'])\n",
    "    if input('([Y]es/[N]o):') in ['Y', 'y', 'Yes', 'yes', 'ye', 'Ye']:\n",
    "        print(string_constants['WORKING'])\n",
    "        removeCustomTrafficShapingRules()\n",
    "        print(string_constants['COMPLETE'])\n",
    "    else:\n",
    "        print(string_constants['CANCEL'])\n",
    "else:\n",
    "    print(string_constants['CANCEL'])\n",
    "        "
   ]
  },
  {
   "cell_type": "markdown",
   "metadata": {},
   "source": [
    "# Final thoughts\n",
    "\n",
    "And we're done! Hopefully you found this a useful demonstration of just a few things that are possible with Meraki's Python SDK. These additional resources may prove useful along the way.\n",
    "\n",
    "[Meraki Interactive API Docs](https://developer.cisco.com/meraki/api-v1/#!overview): The official (and interactive!) Meraki API and SDK documentation repository on DevNet.\n",
    "\n",
    "[VS Code](https://code.visualstudio.com/): A code editor with full support for Python and some support for Python notebooks.\n",
    "\n",
    "[Automate the Boring Stuff with Python](https://automatetheboringstuff.com/): An excellent learning resource that puts the real-world problem first, then teaches you the Pythonic solution along the way."
   ]
  }
 ],
 "metadata": {
  "kernelspec": {
   "display_name": "Python 3",
   "language": "python",
   "name": "python3"
  },
  "language_info": {
   "codemirror_mode": {
    "name": "ipython",
    "version": 3
   },
   "file_extension": ".py",
   "mimetype": "text/x-python",
   "name": "python",
   "nbconvert_exporter": "python",
   "pygments_lexer": "ipython3",
   "version": "3.8.4-final"
  }
 },
 "nbformat": 4,
 "nbformat_minor": 4
}